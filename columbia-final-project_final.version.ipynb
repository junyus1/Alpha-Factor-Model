{
 "cells": [
  {
   "cell_type": "markdown",
   "metadata": {},
   "source": [
    "# Portfolio optimization example"
   ]
  },
  {
   "cell_type": "markdown",
   "metadata": {},
   "source": [
    "### JunyuSui "
  
   ]
  },
  {
   "cell_type": "markdown",
   "metadata": {},
   "source": [
    "## Load Packages"
   ]
  },
  {
   "cell_type": "code",
   "execution_count": 1,
   "metadata": {},
   "outputs": [],
   "source": [
    "import pandas\n",
    "import pandas as pd\n",
    "import numpy as np\n",
    "import matplotlib.pyplot as plt\n",
    "import pickle\n",
    "from statsmodels.formula.api import ols\n",
    "from scipy.stats import gaussian_kde\n",
    "import scipy\n",
    "import scipy.sparse\n",
    "import patsy\n",
    "from statistics import median\n",
    "import bz2\n",
    "import math"
   ]
  },
  {
   "cell_type": "code",
   "execution_count": 2,
   "metadata": {},
   "outputs": [],
   "source": [
    "from sklearn.linear_model import Ridge, RidgeCV, ElasticNet, LassoCV, LassoLarsCV, ElasticNetCV, Lasso\n",
    "from sklearn.model_selection import cross_val_score\n",
    "from sklearn.model_selection import KFold"
   ]
  },
  {
   "cell_type": "markdown",
   "metadata": {},
   "source": [
    "## Load Data\n",
    "\n",
    "The model data has already been pre-processed from text files and saved into pickle files. Loading and parsing the raw files (parsing text into numbers) can slow down your backtest significantly, which is why it's important to pre-process the data beforehand."
   ]
  },
  {
   "cell_type": "code",
   "execution_count": 3,
   "metadata": {},
   "outputs": [],
   "source": [
    "model_dir = '/Users/suijunyu/Desktop/ML_project/project_data/'\n",
    "\n",
    "def sort_cols(test): \n",
    "    return(test.reindex(sorted(test.columns), axis=1))\n",
    "\n",
    "frames = {}\n",
    "for year in [2004,2005,2006]:\n",
    "    fil = model_dir + \"pandas-frames.\" + str(year) + \".pickle.bz2\"\n",
    "    frames.update(pickle.load( bz2.open( fil, \"rb\" ) ))\n",
    "\n",
    "for x in frames: \n",
    "    frames[x] = sort_cols(frames[x])\n",
    "    \n",
    "covariance = {}\n",
    "for year in [2003,2004,2005,2006]:\n",
    "    fil = model_dir + \"covariance.\" + str(year) + \".pickle.bz2\"\n",
    "    covariance.update(pickle.load( bz2.open(fil, \"rb\" ) ))"
   ]
  },
  {
   "cell_type": "markdown",
   "metadata": {},
   "source": [
    "ID: a unique identifier that can be used to link stocks across time \n",
    "\n",
    "1DREVRSL: very short-term reversal, potential alpha factor but probably too fast-moving to be tradable \n",
    "\n",
    "STREVRSL: short-term reversal, potential alpha factor \n",
    "\n",
    "LTREVRSL: long-term reversal, potential alpha factor \n",
    "\n",
    "BETA: risk factor computed from CAPM beta regression\n",
    "\n",
    "EARNQLTY: earnings quality, potential alpha factor \n",
    "\n",
    "EARNYILD: earnings yield (blend of forecasted earnings and historical earnings divided by market cap) \n",
    "\n",
    "GROWTH: mix of historical and forecasted earnings growth \n",
    "\n",
    "LEVERAGE: financial leverage of the company's balance sheet, usually a risk factor \n",
    "\n",
    "LIQUIDTY: factor with high loadings for very liquidly traded names; usually a risk factor \n",
    "\n",
    "MGMTQLTY: management quality, potential alpha factor which looks at quantitative measures of how well-run a company is by its management \n",
    "\n",
    "MOMENTUM: 12-month growth in stock price, usually a risk factor \n",
    "\n",
    "PROFIT: profitability, potential alpha factor \n",
    "\n",
    "PROSPECT: based on skewness of the return distribution, potential risk factor \n",
    "\n",
    "RESVOL: risk factor computed from residual volatility \n",
    "\n",
    "SEASON: seasonality-based alpha factor \n",
    "\n",
    "SENTMT: news sentiment alpha factor \n",
    "\n",
    "SIZE: risk factor based on log(market capitalization) \n",
    "\n",
    "VALUE: risk factor based on ratio of tangible book value to current price \n",
    "\n",
    "\n",
    "\n",
    "\n",
    "SpecRisk: specific risk is another name for predicted residual volatility. We called this the D matrix in our discussion of APT models. \n",
    "\n",
    "TotalRisk: predicted total vol, including factor and idiosyncratic contributions, annualized \n",
    "\n",
    "Ret: asset's total return on the next day after the factor loadings are known, suitable as the Y vector in a regression analysis \n",
    "\n",
    "Yield: the dividend yield of the asset \n",
    "\n",
    "\n",
    "HistBeta: historically estimated CAPM beta coefficient \n",
    "PredBeta: model-predicted beta coefficient in the future \n",
    "\n",
    "\n",
    "INDMOM: industry momentum (defined as relative historical outperformance or underperformance of the other stocks in the same industry) \n",
    "\n",
    "IssuerMarketCap: aggregate market capitalization of the company (all share classes from the same issuer, e.g. for Google would include both Alphabet A and C) \n",
    "\n",
    "BidAskSpread: bid-offer spread (average for the day) \n",
    "\n",
    "CompositeVolume: composite trading volume for the day \n",
    "\n",
    "DataDate: the date when the data would have been known, as of the close \n",
    "\n",
    "\n",
    "\n",
    "Industry factors: 'AERODEF', 'AIRLINES', 'ALUMSTEL', 'APPAREL', 'AUTO',\n",
    "       'BANKS','BEVTOB', 'BIOLIFE', 'BLDGPROD','CHEM', 'CNSTENG', 'CNSTMACH', 'CNSTMATL', 'COMMEQP', 'COMPELEC',\n",
    "       'COMSVCS', 'CONGLOM', 'CONTAINR', 'DISTRIB',\n",
    "       'DIVFIN', 'DIVYILD', 'DWNRISK','ELECEQP', 'ELECUTIL', 'FOODPROD', 'FOODRET', 'GASUTIL',\n",
    "       'HLTHEQP', 'HLTHSVCS', 'HOMEBLDG', 'HOUSEDUR','INDMACH', 'INSURNCE', 'INTERNET', \n",
    "        'LEISPROD', 'LEISSVCS', 'LIFEINS', 'MEDIA', 'MGDHLTH','MULTUTIL',\n",
    "       'OILGSCON', 'OILGSDRL', 'OILGSEQP', 'OILGSEXP', 'PAPER', 'PHARMA',\n",
    "       'PRECMTLS','PSNLPROD','REALEST',\n",
    "       'RESTAUR', 'ROADRAIL','SEMICOND', 'SEMIEQP','SOFTWARE', 'SPLTYRET', 'SPTYCHEM', 'SPTYSTOR',\n",
    "       'TELECOM', 'TRADECO', 'TRANSPRT', 'WIRELESS'"
   ]
  },
  {
   "cell_type": "markdown",
   "metadata": {},
   "source": [
    "## Data Cleaning and Winsorization\n",
    "\n",
    "The distribution of many statistics can be heavily influenced by outliers. A simple approach to robustifying parameter estimation procedures is to set all outliers to a specified percentile of the data; for example, a 90% winsorization would see all data below the 5th percentile set to the 5th percentile, and data above the 95th percentile set to the 95th percentile. Winsorized estimators are usually more robust to outliers than their more standard forms."
   ]
  },
  {
   "cell_type": "code",
   "execution_count": 4,
   "metadata": {},
   "outputs": [],
   "source": [
    "def wins(x,a,b):\n",
    "    return(np.where(x <= a,a, np.where(x >= b, b, x)))\n",
    "\n",
    "def clean_nas(df): \n",
    "    numeric_columns = df.select_dtypes(include=[np.number]).columns.tolist()\n",
    "    \n",
    "    for numeric_column in numeric_columns: \n",
    "        df[numeric_column] = np.nan_to_num(df[numeric_column])\n",
    "    \n",
    "    return df"
   ]
  },
  {
   "cell_type": "markdown",
   "metadata": {},
   "source": [
    "We can check the distribution of returns with a density plot, both before and after winsorization to observe the effect of trimming the tails."
   ]
  },
  {
   "cell_type": "code",
   "execution_count": 5,
   "metadata": {
    "scrolled": false
   },
   "outputs": [
    {
     "data": {
      "image/png": "[encoded data removed]",
      "text/plain": [
       "<Figure size 432x288 with 1 Axes>"
      ]
     },
     "metadata": {
      "needs_background": "light"
     },
     "output_type": "display_data"
    },
    {
     "data": {
      "image/png": "[encoded data removed]",
      "text/plain": [
       "<Figure size 432x288 with 1 Axes>"
      ]
     },
     "metadata": {
      "needs_background": "light"
     },
     "output_type": "display_data"
    },
    {
     "data": {
      "image/png": "[encoded data removed]",
      "text/plain": [
       "<Figure size 432x288 with 1 Axes>"
      ]
     },
     "metadata": {
      "needs_background": "light"
     },
     "output_type": "display_data"
    }
   ],
   "source": [
    "def density_plot(data, title): \n",
    "    density = gaussian_kde(data)\n",
    "    xs = np.linspace(np.min(data),np.max(data),200)\n",
    "    density.covariance_factor = lambda : .25\n",
    "    density._compute_covariance()\n",
    "    plt.plot(xs,density(xs))\n",
    "    plt.title(title)\n",
    "    plt.show()\n",
    "    \n",
    "test = frames['20040102']\n",
    "density_plot(test['Ret'], 'Daily return pre-winsorization')\n",
    "density_plot(wins(test['Ret'],-0.2,0.2), 'Daily return winsorized')\n",
    "\n",
    "D = (test['SpecRisk'] / (100 * math.sqrt(252))) ** 2\n",
    "density_plot(np.sqrt(D), 'SpecRisk')"
   ]
  },
  {
   "cell_type": "markdown",
   "metadata": {},
   "source": [
    "# Factors"
   ]
  },
  {
   "cell_type": "markdown",
   "metadata": {},
   "source": [
    "## Factor Exposures and Factor Returns\n",
    "\n",
    "\n",
    "Arbitrage pricing theory relaxes several of the assumptions made in the course of deriving \n",
    "the CAPM. In particular, we relax the assumption that all investors do the same optimization \n",
    "and hence that there is a single efficient fund. This allows the possibility that a CAPM-like \n",
    "relation may hold, but with multiple underlying sources of risk. \n",
    "\n",
    "Specifically, let $r_i, i = 1, \\ldots, n$ denote the cross-section of asset returns over a given \n",
    "time period $[t, t+1]$. In a fully-general model, the multivariate distribution $p(\\mathbf{r})$ could have \n",
    "arbitrary covariance and higher-moment structures, but remember that for $n$ large there is \n",
    "typically never enough data to estimate such over-parameterized models. \n",
    "\n",
    "Instead, we assume a\n",
    "structural model which is the most direct generalization of the CAPM: \n",
    "$$\n",
    "\tr_i = \\beta_{i, 1} f_1 + \\beta_{i,2} f_2 + \\dots + \\beta_{i, p} f_p + \\epsilon_i, \\quad \n",
    "\t\\epsilon_i \\sim N(0, \\sigma_i^2)  \n",
    "$$\n",
    "If $p = 1$, this reduces to the Capital Asset Pricing Model (CAPM) in a rather direct way. \n",
    "\n",
    "With $p > 1$, the model starts to differ from the CAPM \n",
    "in several very important aspects. In the CAPM, we were \n",
    "able to identify the single efficient fund by arguing that its weights must equal the \n",
    "market-capitalization weights. Hence we were given for free a very nice proxy for the \n",
    "single efficient fund: a capitalization-weighted basket such as the Russell 3000. \n",
    "Hence in the $p=1$ case we had a convenient proxy which could be used to impute \n",
    "the return $f_1$, which we called $r_M$. Also $\\beta_{i, 1}$ could be estimated, with \n",
    "no more than the usual statistical estimation error, by time-series regression. \n",
    "\n",
    "If $p > 1$ then the underlying assumptions of that argument break down: there is no\n",
    "longer any simple way to identify $f_{j}$ nor $\\beta_{i, j}$ ($j = 1, \\ldots, p$). \n",
    "We shall return to the estimation problem in due course. \n",
    "\n",
    "\n",
    "To avoid confusion with the CAPM, and its simplistic $\\beta$ coefficient (which is still \n",
    "sometimes used in larger multi-factor models), it is conventional to make the following \n",
    "notation change: $\\beta_{i,j}$ becomes $X_{i,j}$ and so the model equation becomes \n",
    "$$\n",
    "\t \tr_i = X_{i, 1} f_1 + X_{i,2} f_2 + \\dots + X_{i, p} f_p + \\epsilon_i, \\quad \n",
    "\t\\epsilon_i \\sim N(0, \\sigma_i^2)  \n",
    "$$\n",
    "It's difficult to simultaneously estimate both all components $X_{i,j}$ and all risk-source \n",
    "returns $f_j$, so one usually assumes one is known and calculates the other via regression. \n",
    "In what follows, we focus on the approach where $X$ is known, and the $f_j$ are assumed\n",
    "to be hidden (aka latent) variables.\n",
    "\n",
    "The structural equation is more conveniently expressed in matrix form: \n",
    "$$\n",
    "\tR_{t+1} = X_t f_{t+1} + \\epsilon_{t+1}, \\quad E[\\epsilon] = 0, \\ \\ V[\\epsilon] = D \n",
    "$$\n",
    "where $R_{t+1}$ is an $n$-dimensional random vector containing the \n",
    "cross-section of returns in excess of the risk-free rate over some \n",
    "time interval $[t, t+1]$, and $X_t$ is a (non-random) $n \\times p$ matrix \n",
    "that can be calculated entirely from data known before time $t$.\n",
    "The variable $f$ in denotes a $p$-dimensional random vector\n",
    "process which cannot be observed directly. \n",
    "\n",
    "Since the variable $f$ denotes a $p$-dimensional random vector process which cannot \n",
    "be observed directly, information about the $f$-process must be obtained via statistical inference. \n",
    "We assume that the $f$-process has finite first and second moments given by \n",
    "$$\n",
    "\tE[f] = \\mu_f, \\ \\text{ and } \\  V[f] = F . \n",
    "$$ \n",
    "The primary outputs of a statistical inference process are the parameters \n",
    "$\\mu_f$ and $F$, and other outputs one might be interested in\n",
    "include estimates of the daily realizations $\\hat{f}_{t+1}$. \n",
    "\n",
    "The simplest way of estimating historical daily realizations of $\\hat{f}_{t+1}$ is by least-squares (ordinary or weighted, as appropriate), viewing the defining \n",
    "model equation as a regression problem. "
   ]
  },
  {
   "cell_type": "code",
   "execution_count": 6,
   "metadata": {},
   "outputs": [],
   "source": [
    "industry_factors = ['AERODEF', 'AIRLINES', 'ALUMSTEL', 'APPAREL', 'AUTO',\n",
    "       'BANKS','BEVTOB', 'BIOLIFE', 'BLDGPROD','CHEM', 'CNSTENG', 'CNSTMACH', 'CNSTMATL', 'COMMEQP', 'COMPELEC',\n",
    "       'COMSVCS', 'CONGLOM', 'CONTAINR', 'DISTRIB',\n",
    "       'DIVFIN', 'DIVYILD', 'DWNRISK','ELECEQP', 'ELECUTIL', 'FOODPROD', 'FOODRET', 'GASUTIL',\n",
    "       'HLTHEQP', 'HLTHSVCS', 'HOMEBLDG', 'HOUSEDUR','INDMACH', 'INSURNCE', 'INTERNET', \n",
    "        'LEISPROD', 'LEISSVCS', 'LIFEINS', 'MEDIA', 'MGDHLTH','MULTUTIL',\n",
    "       'OILGSCON', 'OILGSDRL', 'OILGSEQP', 'OILGSEXP', 'PAPER', 'PHARMA',\n",
    "       'PRECMTLS','PSNLPROD','REALEST',\n",
    "       'RESTAUR', 'ROADRAIL','SEMICOND', 'SEMIEQP','SOFTWARE', 'SPLTYRET', 'SPTYCHEM', 'SPTYSTOR',\n",
    "       'TELECOM', 'TRADECO', 'TRANSPRT', 'WIRELESS']\n",
    "\n",
    "style_factors = ['BETA','SIZE','MOMENTUM','VALUE']"
   ]
  },
  {
   "cell_type": "code",
   "execution_count": 7,
   "metadata": {},
   "outputs": [],
   "source": [
    "def get_formula(alphas, Y):\n",
    "    L = [\"0\"]\n",
    "    L.extend(alphas)\n",
    "    L.extend(style_factors)\n",
    "    L.extend(industry_factors)\n",
    "    return Y + \" ~ \" + \" + \".join(L)\n",
    "\n",
    "def get_estu(df): \n",
    "    estu = df.loc[df.IssuerMarketCap > 1e9].copy(deep=True)\n",
    "    return estu\n",
    "\n",
    "def estimate_factor_returns(df, alphas): \n",
    "    ## build universe based on filters \n",
    "    estu = get_estu(df)\n",
    "    \n",
    "    ## winsorize returns for fitting \n",
    "    estu['Ret'] = wins(estu['Ret'], -0.25, 0.25)\n",
    "  \n",
    "    form = get_formula(alphas, \"Ret\")\n",
    "    model = ols(form, data=estu)\n",
    "    results = model.fit()\n",
    "    return(results)"
   ]
  },
  {
   "cell_type": "markdown",
   "metadata": {},
   "source": [
    "Running one OLS per day over several years, where each OLS involves several thousand observations and about 50-100 independent variables, takes a few minutes."
   ]
  },
  {
   "cell_type": "code",
   "execution_count": 8,
   "metadata": {},
   "outputs": [],
   "source": [
    "alpha_factors = ['STREVRSL','PROFIT','SENTMT']"
   ]
  },
  {
   "cell_type": "code",
   "execution_count": 9,
   "metadata": {},
   "outputs": [],
   "source": [
    "facret = {}\n",
    "\n",
    "for date in frames:\n",
    "    facret[date] = estimate_factor_returns(frames[date], list(alpha_factors)).params"
   ]
  },
  {
   "cell_type": "code",
   "execution_count": 10,
   "metadata": {},
   "outputs": [],
   "source": [
    "my_dates = sorted(list(map(lambda date: pd.to_datetime(date, format='%Y%m%d'), frames.keys())))"
   ]
  },
  {
   "cell_type": "markdown",
   "metadata": {},
   "source": [
    "## Alpha factor selection\n",
    "\n",
    "In a real trading scenario, alpha factor construction would be the culmination of a very long research process, usually undertaken by experts in financial markets and requiring great cost and ingenuity. \n",
    "For this exercise, we consider several well-known alpha factors: (reversal, profitability, and sentiment)."
   ]
  },
  {
   "cell_type": "code",
   "execution_count": 11,
   "metadata": {},
   "outputs": [
    {
     "data": {
      "text/plain": [
       "<matplotlib.axes._subplots.AxesSubplot at 0x7fb84484dca0>"
      ]
     },
     "execution_count": 11,
     "metadata": {},
     "output_type": "execute_result"
    },
    {
     "data": {
      "image/png": "[encoded data removed]",
      "text/plain": [
       "<Figure size 432x288 with 1 Axes>"
      ]
     },
     "metadata": {
      "needs_background": "light"
     },
     "output_type": "display_data"
    }
   ],
   "source": [
    "facret_df = pd.DataFrame(index = my_dates)\n",
    "\n",
    "for dt in my_dates: \n",
    "    for alp in alpha_factors: \n",
    "        facret_df.at[dt, alp] = facret[dt.strftime('%Y%m%d')][alp]\n",
    "\n",
    "facret_df.cumsum().plot()"
   ]
  },
  {
   "cell_type": "code",
   "execution_count": 12,
   "metadata": {},
   "outputs": [
    {
     "name": "stdout",
     "output_type": "stream",
     "text": [
      "STREVRSL    0.000264\n",
      "PROFIT      0.000076\n",
      "SENTMT      0.000096\n",
      "dtype: float64\n"
     ]
    }
   ],
   "source": [
    "print(facret_df.mean())"
   ]
  },
  {
   "cell_type": "code",
   "execution_count": 13,
   "metadata": {},
   "outputs": [],
   "source": [
    "def colnames(X):\n",
    "    if(type(X) == patsy.design_info.DesignMatrix): \n",
    "        return(X.design_info.column_names)\n",
    "    if(type(X) == pandas.core.frame.DataFrame): \n",
    "        return(X.columns.tolist())\n",
    "    return(None)\n",
    "\n",
    "def diagonal_factor_cov(date, X):\n",
    "    cv = covariance[date]\n",
    "    k = np.shape(X)[1]\n",
    "    Fm = np.zeros([k,k])\n",
    "    for j in range(0,k): \n",
    "        fac = colnames(X)[j]\n",
    "        Fm[j,j] = (0.01**2) * cv.loc[(cv.Factor1==fac) & (cv.Factor2==fac),\"VarCovar\"].iloc[0]\n",
    "    return(Fm)\n",
    "\n",
    "def risk_exposures(estu): \n",
    "    L = [\"0\"]\n",
    "    L.extend(style_factors)\n",
    "    L.extend(industry_factors)\n",
    "    my_formula = \" + \".join(L)\n",
    "    return patsy.dmatrix(my_formula, data = estu)"
   ]
  },
  {
   "cell_type": "markdown",
   "metadata": {},
   "source": [
    "### Helpful code to show how to get X, F, D matrices"
   ]
  },
  {
   "cell_type": "code",
   "execution_count": 14,
   "metadata": {},
   "outputs": [],
   "source": [
    "my_date = '20040102'\n",
    "\n",
    "# estu = estimation universe\n",
    "estu = get_estu(frames[my_date])\n",
    "n = estu.shape[0]\n",
    "\n",
    "estu['Ret'] = wins(estu['Ret'], -0.25, 0.25)\n",
    "\n",
    "#estu['alpha'] = # insert alpha factor combination from cross-validation study\n",
    "#estu_alpha = estu['alpha'].to_numpy()\n",
    "\n",
    "rske = risk_exposures(estu)\n",
    "F = diagonal_factor_cov(my_date, rske)\n",
    "\n",
    "X = np.asarray(rske)\n",
    "D = np.asarray( (estu['SpecRisk'] / (100 * math.sqrt(252))) ** 2 )\n",
    "\n",
    "kappa = 1e-5"
   ]
  },
  {
   "cell_type": "markdown",
   "metadata": {},
   "source": [
    "### Problem 1. \n",
    "\n",
    "Consider the following candidates as potential alpha factors: STREVRSL, LTREVRSL, EARNQLTY. EARNYILD, MGMTQLTY, PROFIT, SEASON, SENTMT. Construct a proper cross-validation study with an ultimate test set that is not used in the cross validation phase, and with a vaidation set that you split into 10 folds for the purposes of cross-validation. Use cross validation to select a model from a family of candidate models. It could be as simple as lasso, but we encourage you to get creative and try non-linear combinations of factors as well. Use methods from the course. \n",
    "\n",
    "\n",
    "### Problem 2. \n",
    "\n",
    "Code up the efficient formula for portfolio optimization discussed in lecture, based on the Woodbury matrix inversion lemma. \n",
    "\n",
    "### Problem 3. \n",
    "\n",
    "Using the helpful code example above, and using the final result of the model selection procedure from problem 1 as your final alpha factor, construct a backtest of a portfolio optimization strategy. Use the efficient matrix inversion from problem 2 to speed things up."
   ]
  },
  {
   "cell_type": "markdown",
   "metadata": {},
   "source": [
    "##  Prepare Data"
   ]
  },
  {
   "cell_type": "markdown",
   "metadata": {},
   "source": [
    "#### Residual returns and Residual alpha factors.\n",
    "\n",
    "The core idea is to extimate the coefficient between residual return and residual alpha factors, so we can make the industry factors and style factors neutral in our strategy."
   ]
  },
  {
   "cell_type": "code",
   "execution_count": 15,
   "metadata": {},
   "outputs": [],
   "source": [
    "alpha_factors = ['STREVRSL', 'LTREVRSL', 'EARNQLTY', 'EARNYILD', 'MGMTQLTY', 'PROFIT', 'SEASON', 'SENTMT']\n",
    "\n",
    "def residual_return(df):\n",
    "    \n",
    "    form = get_formula([],\"Ret\")\n",
    "    results = ols(form, data=df).fit()\n",
    "    res_return = results.resid\n",
    "    \n",
    "    return res_return\n",
    "\n",
    "def residual_alpha(df):\n",
    "    \n",
    "    X = df[industry_factors + style_factors]\n",
    "    matrix = np.linalg.inv(X.T @ X) @ X.T\n",
    "    res_alpha = df[alpha_factors] - np.dot(X,np.dot(matrix,df[alpha_factors]))\n",
    "    \n",
    "    return res_alpha"
   ]
  },
  {
   "cell_type": "markdown",
   "metadata": {},
   "source": [
    "####  Train Data: 2004, 2005, 2006"
   ]
  },
  {
   "cell_type": "code",
   "execution_count": 102,
   "metadata": {
    "scrolled": true
   },
   "outputs": [],
   "source": [
    "#Here I did the data clean together, and use new_frames as our new original data\n",
    "new_frames={}\n",
    "\n",
    "for key in frames.keys():\n",
    "    new_frames[key] = get_estu(frames[key])\n",
    "    new_frames[key]['Ret'] = wins(new_frames[key]['Ret'],-0.25,0.25)# winsorize returns for fitting "
   ]
  },
  {
   "cell_type": "code",
   "execution_count": 99,
   "metadata": {},
   "outputs": [],
   "source": [
    "#processing data and combine them into one dataframe for cross validation.\n",
    "x_frames = {}\n",
    "y_frames = {}\n",
    "for key in new_frames.keys():\n",
    "    x_frames[key] = residual_alpha(new_frames[key])\n",
    "    y_frames[key] = residual_return(new_frames[key])\n",
    "\n",
    "x_data = pd.concat(x_frames.values())\n",
    "y_data = pd.concat(y_frames.values())\n",
    "\n",
    "x_data.reset_index(drop=True, inplace=True)\n",
    "y_data.reset_index(drop=True, inplace=True)\n",
    "y_data = pd.DataFrame(y_data, columns=['Ret'])\n",
    "Total_data = pd.concat([x_data, y_data], axis=1, join='inner')"
   ]
  },
  {
   "cell_type": "markdown",
   "metadata": {},
   "source": [
    "#### Future Data: 2007 which we use to forecast our strategy performance"
   ]
  },
  {
   "cell_type": "code",
   "execution_count": 18,
   "metadata": {},
   "outputs": [],
   "source": [
    "#read data\n",
    "frames_test = {}\n",
    "for year in [2007]:\n",
    "    fil = model_dir + \"pandas-frames.\" + str(year) + \".pickle.bz2\"\n",
    "    frames_test.update(pickle.load( bz2.open( fil, \"rb\" ) ))\n",
    "\n",
    "for x in frames_test: \n",
    "    frames_test[x] = sort_cols(frames_test[x])\n",
    "    \n",
    "covariance_test = {}\n",
    "for year in [2007]:\n",
    "    fil = model_dir + \"covariance.\" + str(year) + \".pickle.bz2\"\n",
    "    covariance_test.update(pickle.load( bz2.open(fil, \"rb\" ) ))"
   ]
  },
  {
   "cell_type": "code",
   "execution_count": null,
   "metadata": {},
   "outputs": [],
   "source": [
    "#clean and processing data\n",
    "new_frames2={}\n",
    "for key in frames_test.keys():\n",
    "    new_frames2[key] = get_estu(frames_test[key])\n",
    "    new_frames2[key]['Ret'] = wins(new_frames2[key]['Ret'],-0.25,0.25)# winsorize returns for fitting \n",
    "\n",
    "x_frames2 = {}\n",
    "y_frames2 = {}\n",
    "for key in new_frames2.keys():\n",
    "    x_frames2[key] = residual_alpha(new_frames2[key])\n",
    "    y_frames2[key] = residual_return(new_frames2[key])\n",
    "\n",
    "x_data2 = pd.concat(x_frames2.values())\n",
    "y_data2 = pd.concat(y_frames2.values())\n",
    "\n",
    "x_data2.reset_index(drop=True, inplace=True)\n",
    "y_data2.reset_index(drop=True, inplace=True)\n",
    "y_data2 = pd.DataFrame(y_data2, columns=['Ret'])\n",
    "Total_dat2a = pd.concat([x_data2, y_data2], axis=1, join='inner')"
   ]
  },
  {
   "cell_type": "markdown",
   "metadata": {},
   "source": [
    "## Problem1"
   ]
  },
  {
   "cell_type": "markdown",
   "metadata": {},
   "source": [
    "#### Split Data"
   ]
  },
  {
   "cell_type": "code",
   "execution_count": null,
   "metadata": {},
   "outputs": [],
   "source": [
    "kf = KFold(n_splits=10,shuffle=True,random_state = 11)\n",
    "f1 = Total_data\n",
    "xtrain_fold = []\n",
    "xtest_fold = []\n",
    "for X_train,X_test in kf.split(f1):\n",
    "    xtrain_fold.append(X_train)\n",
    "    xtest_fold.append(X_test)\n",
    "\n",
    "train_dict = []\n",
    "test_dict = []\n",
    "\n",
    "for i in range(10):\n",
    "    train_dict.append(f1.iloc[xtrain_fold[i]])\n",
    "    test_dict.append(f1.iloc[xtest_fold[i]])"
   ]
  },
  {
   "cell_type": "markdown",
   "metadata": {},
   "source": [
    "#### LASSO CV function"
   ]
  },
  {
   "cell_type": "code",
   "execution_count": 56,
   "metadata": {},
   "outputs": [
    {
     "name": "stderr",
     "output_type": "stream",
     "text": [
      "/Users/suijunyu/opt/anaconda3/lib/python3.8/site-packages/sklearn/utils/validation.py:72: DataConversionWarning: A column-vector y was passed when a 1d array was expected. Please change the shape of y to (n_samples, ), for example using ravel().\n",
      "  return f(**kwargs)\n"
     ]
    }
   ],
   "source": [
    "model_lasso1 = LassoCV(eps=0.001,n_alphas=100,cv=10).fit(x_data, y_data)  \n",
    "coef_mean1=model_lasso1.coef_\n",
    "optimal_alpha = model_lasso1.alpha_"
   ]
  },
  {
   "cell_type": "code",
   "execution_count": 57,
   "metadata": {},
   "outputs": [
    {
     "data": {
      "text/plain": [
       "array([ 2.41399903e-04, -0.00000000e+00, -0.00000000e+00,  9.54272070e-05,\n",
       "        3.44766684e-06,  0.00000000e+00,  6.23724164e-05,  7.21765663e-05])"
      ]
     },
     "execution_count": 57,
     "metadata": {},
     "output_type": "execute_result"
    }
   ],
   "source": [
    "coef_mean1"
   ]
  },
  {
   "cell_type": "markdown",
   "metadata": {},
   "source": [
    "#### LASSO and Cross Validation"
   ]
  },
  {
   "cell_type": "code",
   "execution_count": 68,
   "metadata": {},
   "outputs": [
    {
     "name": "stdout",
     "output_type": "stream",
     "text": [
      "0.0003563591647116615\n"
     ]
    }
   ],
   "source": [
    "#### check score and pick up model\n",
    "score = 0\n",
    "coef_mean = np.zeros(8)\n",
    "for i in range(10):\n",
    "    X_train = train_dict[i][alpha_factors]\n",
    "    Y_train = train_dict[i]['Ret']\n",
    "    X_test = test_dict[i][alpha_factors]\n",
    "    Y_test = test_dict[i]['Ret']\n",
    "    \n",
    "    #model_lasso = Lasso(eps=0.001,n_alphas=100,cv=10).fit(X_train, Y_train)\n",
    "    model_lasso = Lasso(alpha=optimal_alpha).fit(X_train, Y_train)\n",
    "    coef_mean += model_lasso.coef_\n",
    "    if model_lasso.score(X_test,Y_test) > score:\n",
    "        score = model_lasso.score(X_test,Y_test)\n",
    "        model_fit = model_lasso\n",
    "        print(score)\n",
    "        \n",
    "model_lasso2 = model_fit\n",
    "coef_mean2 = coef_mean/10"
   ]
  },
  {
   "cell_type": "code",
   "execution_count": 69,
   "metadata": {
    "scrolled": true
   },
   "outputs": [
    {
     "data": {
      "text/plain": [
       "array([2.41391395e-04, 0.00000000e+00, 0.00000000e+00, 9.52223912e-05,\n",
       "       3.85506654e-06, 7.38627859e-07, 6.23770527e-05, 7.22024188e-05])"
      ]
     },
     "execution_count": 69,
     "metadata": {},
     "output_type": "execute_result"
    }
   ],
   "source": [
    "coef_mean2"
   ]
  },
  {
   "cell_type": "markdown",
   "metadata": {},
   "source": [
    "#### ElasticNet CV function"
   ]
  },
  {
   "cell_type": "code",
   "execution_count": 60,
   "metadata": {},
   "outputs": [
    {
     "name": "stderr",
     "output_type": "stream",
     "text": [
      "/Users/suijunyu/opt/anaconda3/lib/python3.8/site-packages/sklearn/utils/validation.py:72: DataConversionWarning: A column-vector y was passed when a 1d array was expected. Please change the shape of y to (n_samples, ), for example using ravel().\n",
      "  return f(**kwargs)\n"
     ]
    }
   ],
   "source": [
    "ENSTest = ElasticNetCV(alphas=[0.0001, 0.0005, 0.001, 0.01, 0.1, 1, 10], \n",
    "                                    l1_ratio=[.01, .1, .5, .9, .99],  \n",
    "                                    max_iter=5000, cv=10).fit(x_data, y_data)\n",
    "\n",
    "coef_mean3 = ENSTest.coef_"
   ]
  },
  {
   "cell_type": "code",
   "execution_count": 61,
   "metadata": {},
   "outputs": [
    {
     "data": {
      "text/plain": [
       "array([ 2.46783265e-04, -0.00000000e+00, -0.00000000e+00,  1.02324533e-04,\n",
       "        9.36539257e-06,  3.08891399e-06,  6.80257368e-05,  7.92047407e-05])"
      ]
     },
     "execution_count": 61,
     "metadata": {},
     "output_type": "execute_result"
    }
   ],
   "source": [
    "coef_mean3"
   ]
  },
  {
   "cell_type": "markdown",
   "metadata": {},
   "source": [
    "#### ElasticNet and Cross Validation"
   ]
  },
  {
   "cell_type": "code",
   "execution_count": 62,
   "metadata": {},
   "outputs": [
    {
     "name": "stdout",
     "output_type": "stream",
     "text": [
      "0.0003685567310683924\n"
     ]
    }
   ],
   "source": [
    "score = 0\n",
    "coef_mean = np.zeros(8)\n",
    "for i in range(10):\n",
    "    X_train = train_dict[i][alpha_factors]\n",
    "    Y_train = train_dict[i]['Ret']\n",
    "    X_test = test_dict[i][alpha_factors]\n",
    "    Y_test = test_dict[i]['Ret']\n",
    "    \n",
    "    model_EN = ElasticNet(alpha=ENSTest.alpha_, l1_ratio=ENSTest.l1_ratio_).fit(X_train, Y_train)\n",
    "    coef_mean += model_EN.coef_\n",
    "    if model_EN.score(X_test,Y_test) > score:\n",
    "        score = model_EN.score(X_test,Y_test)\n",
    "        modelEN_fit = model_EN\n",
    "        print(score)\n",
    "    \n",
    "coef_mean4 = coef_mean/10"
   ]
  },
  {
   "cell_type": "code",
   "execution_count": 63,
   "metadata": {},
   "outputs": [
    {
     "data": {
      "text/plain": [
       "array([ 2.46821777e-04,  0.00000000e+00, -1.76464041e-06,  1.01783338e-04,\n",
       "        9.49560578e-06,  5.05948605e-06,  6.80268777e-05,  7.91563716e-05])"
      ]
     },
     "execution_count": 63,
     "metadata": {},
     "output_type": "execute_result"
    }
   ],
   "source": [
    "coef_mean4"
   ]
  },
  {
   "cell_type": "markdown",
   "metadata": {},
   "source": [
    "#### Model compare "
   ]
  },
  {
   "cell_type": "code",
   "execution_count": 64,
   "metadata": {},
   "outputs": [
    {
     "data": {
      "text/plain": [
       "0.00020329263387131036"
      ]
     },
     "execution_count": 64,
     "metadata": {},
     "output_type": "execute_result"
    }
   ],
   "source": [
    "model_lasso1.score(x_data2, y_data2)"
   ]
  },
  {
   "cell_type": "code",
   "execution_count": 65,
   "metadata": {},
   "outputs": [
    {
     "data": {
      "text/plain": [
       "0.00019950564792481362"
      ]
     },
     "execution_count": 65,
     "metadata": {},
     "output_type": "execute_result"
    }
   ],
   "source": [
    "model_lasso2.score(x_data2, y_data2)"
   ]
  },
  {
   "cell_type": "code",
   "execution_count": 66,
   "metadata": {},
   "outputs": [
    {
     "data": {
      "text/plain": [
       "0.000202634934663104"
      ]
     },
     "execution_count": 66,
     "metadata": {},
     "output_type": "execute_result"
    }
   ],
   "source": [
    "ENSTest.score(x_data2,y_data2)"
   ]
  },
  {
   "cell_type": "code",
   "execution_count": 67,
   "metadata": {},
   "outputs": [
    {
     "data": {
      "text/plain": [
       "0.00020040725288239525"
      ]
     },
     "execution_count": 67,
     "metadata": {},
     "output_type": "execute_result"
    }
   ],
   "source": [
    "modelEN_fit.score(x_data2, y_data2)"
   ]
  },
  {
   "cell_type": "markdown",
   "metadata": {},
   "source": [
    "## Problem2"
   ]
  },
  {
   "cell_type": "markdown",
   "metadata": {},
   "source": [
    "#### Woodbury matrix inversion"
   ]
  },
  {
   "cell_type": "code",
   "execution_count": 34,
   "metadata": {},
   "outputs": [],
   "source": [
    "#(A + UCV)^{-1}\n",
    "# when we calculate (A+C)^{-1}, we can assume U = V = Identity matrix\n",
    "def woodbury(A, U, V ,C):\n",
    "    A_inv = np.diag(1./np.diag(A))  # Fast matrix inversion of a diagonal.\n",
    "    B_inv = np.linalg.inv(np.linalg.inv(C) + V @ A_inv @ U)\n",
    "    return A_inv - (A_inv @ U @ B_inv @ V @ A_inv)\n"
   ]
  },
  {
   "cell_type": "code",
   "execution_count": 35,
   "metadata": {},
   "outputs": [],
   "source": [
    "def pinv(A):\n",
    "    \"\"\"compute the pseudoinverse of a matrix A with real entries\"\"\"\n",
    "    U, s, VT = np.linalg.svd(A, full_matrices=True)\n",
    "    \n",
    "    Splus = np.zeros((A.shape[1],A.shape[0]))\n",
    "    for i in range(0, s.size):\n",
    "        Splus[i,i] = s[i]\n",
    "    return np.dot(VT.T, np.dot(Splus, U.T))"
   ]
  },
  {
   "cell_type": "code",
   "execution_count": 36,
   "metadata": {},
   "outputs": [],
   "source": [
    "def risk_exposures(estu): \n",
    "    L = [\"0\"]\n",
    "    #L.extend(style_factors)\n",
    "    #L.extend(industry_factors)\n",
    "    L.extend(alpha_factors)\n",
    "    my_formula = \" + \".join(L)\n",
    "    return patsy.dmatrix(my_formula, data = estu)\n",
    "\n",
    "def diagonal_factor_cov(date, X, covariance):\n",
    "    cv = covariance[date]\n",
    "    k = np.shape(X)[1]\n",
    "    Fm = np.zeros([k,k])\n",
    "    for j in range(0,k): \n",
    "        fac = colnames(X)[j]\n",
    "        Fm[j,j] = (0.01**2) * cv.loc[(cv.Factor1==fac) & (cv.Factor2==fac),\"VarCovar\"].iloc[0]\n",
    "    return(Fm)\n",
    "\n",
    "def colnames(X):\n",
    "    if(type(X) == patsy.design_info.DesignMatrix): \n",
    "        return(X.design_info.column_names)\n",
    "    if(type(X) == pandas.core.frame.DataFrame): \n",
    "        return(X.columns.tolist())\n",
    "    return(None)"
   ]
  },
  {
   "cell_type": "code",
   "execution_count": 37,
   "metadata": {},
   "outputs": [],
   "source": [
    "def optimal_position(date, coef, new_frames, covariance):\n",
    "    \n",
    "    df = new_frames[date]\n",
    "    n = df.shape[0]\n",
    "    rske = risk_exposures(df)\n",
    "    \n",
    "    F = diagonal_factor_cov(date,rske,covariance)\n",
    "    X = np.asarray(rske)\n",
    "    D = np.asarray( (df['SpecRisk'] / (100 * math.sqrt(252))) ** 2 )\n",
    "    D = np.diag(D)\n",
    "    kappa = 1e-4\n",
    "    \n",
    "    P = pinv(X.T @ np.linalg.inv(D) @ X)\n",
    "    U = V = np.eye(P.shape[0]) # suppose U adn V are identity matrix to use the woodbury matrix inverse\n",
    "    \n",
    "    x_star = (1/kappa) * woodbury(F, U, V, P) @ coef # here I use woodbury matrix inverse to speed things up\n",
    "    h_star = np.linalg.inv(np.sqrt(D)) @ pinv(X.T @ np.linalg.inv(np.sqrt(D))) @ x_star\n",
    "    \n",
    "    return x_star, h_star"
   ]
  },
  {
   "cell_type": "markdown",
   "metadata": {},
   "source": [
    "## Problem3"
   ]
  },
  {
   "cell_type": "code",
   "execution_count": 38,
   "metadata": {},
   "outputs": [],
   "source": [
    "def test(new_frames, covariance, y_frames, coef, max_days):\n",
    "    l = []\n",
    "    i = 0\n",
    "    for keys in new_frames.keys():\n",
    "        if i <= max_days:\n",
    "            aa = y_frames[keys]\n",
    "            x_star,h_star = optimal_position(keys, coef, new_frames, covariance)\n",
    "            s = aa @ h_star\n",
    "            l.append(s)\n",
    "            i += 1\n",
    "            if i % 100 ==0:\n",
    "                print(str(i) + ' days finish!')\n",
    "            \n",
    "    l = np.cumsum(l)\n",
    "    plt.plot(l)\n",
    "    plt.show\n",
    "    \n",
    "    return l"
   ]
  },
  {
   "cell_type": "code",
   "execution_count": 71,
   "metadata": {},
   "outputs": [
    {
     "name": "stdout",
     "output_type": "stream",
     "text": [
      "1st model: 0.00020329263387131036\n",
      "2nd model: 0.00019950564792481362\n",
      "3rd model: 0.000202634934663104\n",
      "4th model: 0.00020040725288239525\n"
     ]
    }
   ],
   "source": [
    "print('1st model: ' + str(model_lasso1.score(x_data2, y_data2)))\n",
    "print('2nd model: ' + str(model_lasso2.score(x_data2, y_data2)))\n",
    "print('3rd model: ' + str(ENSTest.score(x_data2,y_data2)))\n",
    "print('4th model: ' + str(modelEN_fit.score(x_data2, y_data2)))"
   ]
  },
  {
   "cell_type": "markdown",
   "metadata": {},
   "source": [
    "Thus we choose the third model as our model"
   ]
  },
  {
   "cell_type": "code",
   "execution_count": 40,
   "metadata": {},
   "outputs": [
    {
     "name": "stdout",
     "output_type": "stream",
     "text": [
      "100 days finish!\n",
      "200 days finish!\n",
      "300 days finish!\n",
      "400 days finish!\n",
      "500 days finish!\n",
      "600 days finish!\n",
      "700 days finish!\n",
      "The total cumulative return of this strategy is 50.431685332121546 %\n"
     ]
    },
    {
     "data": {
      "image/png": "[encoded data removed]",
      "text/plain": [
       "<Figure size 432x288 with 1 Axes>"
      ]
     },
     "metadata": {
      "needs_background": "light"
     },
     "output_type": "display_data"
    }
   ],
   "source": [
    "pnl_old = test(new_frames,covariance,y_frames,coef_mean3,1000)\n",
    "print('The total cumulative return of this strategy is '+str(pnl_old[-1]*100)+' %')"
   ]
  },
  {
   "cell_type": "code",
   "execution_count": 82,
   "metadata": {},
   "outputs": [
    {
     "name": "stdout",
     "output_type": "stream",
     "text": [
      "The total cumulative return of this strategy is 50.431685332121546 %\n"
     ]
    }
   ],
   "source": [
    "print('The total cumulative return of this strategy is '+str(pnl_old[-1]*100)+' %')"
   ]
  },
  {
   "cell_type": "markdown",
   "metadata": {},
   "source": [
    "## Test in the future (2007 )"
   ]
  },
  {
   "cell_type": "code",
   "execution_count": 80,
   "metadata": {},
   "outputs": [
    {
     "name": "stdout",
     "output_type": "stream",
     "text": [
      "100 days finish!\n",
      "200 days finish!\n",
      "The total cumulative return of this strategy is 14.532174092807695 %\n"
     ]
    },
    {
     "data": {
      "image/png": "[encoded data removed]",
      "text/plain": [
       "<Figure size 432x288 with 1 Axes>"
      ]
     },
     "metadata": {
      "needs_background": "light"
     },
     "output_type": "display_data"
    }
   ],
   "source": [
    "pnl_2007 = test(new_frames2,covariance_test,y_frames2, coef_mean3, 300)\n",
    "print('The total cumulative return of this strategy is '+str(pnl_2007[-1]*100)+' %')"
   ]
  },
  {
   "cell_type": "code",
   "execution_count": 85,
   "metadata": {},
   "outputs": [
    {
     "name": "stdout",
     "output_type": "stream",
     "text": [
      "The total cumulative return of this strategy is 14.532174092807695 %\n"
     ]
    }
   ],
   "source": [
    "print('The total cumulative return of this strategy is '+str(pnl_2007[-1]*100)+' %')"
   ]
  },
  {
   "cell_type": "markdown",
   "metadata": {},
   "source": [
    "## Comparison Conclusion"
   ]
  },
  {
   "cell_type": "code",
   "execution_count": 83,
   "metadata": {},
   "outputs": [
    {
     "data": {
      "text/plain": [
       "<matplotlib.axes._subplots.AxesSubplot at 0x7fb57dc89280>"
      ]
     },
     "execution_count": 83,
     "metadata": {},
     "output_type": "execute_result"
    },
    {
     "data": {
      "image/png": "[encoded data removed]",
      "text/plain": [
       "<Figure size 432x288 with 1 Axes>"
      ]
     },
     "metadata": {
      "needs_background": "light"
     },
     "output_type": "display_data"
    }
   ],
   "source": [
    "# all eight alpha performance based on ols from 2004 to 2007\n",
    "facret = {}\n",
    "\n",
    "for date in frames:\n",
    "    facret[date] = estimate_factor_returns(frames[date], list(alpha_factors)).params\n",
    "\n",
    "    \n",
    "facret_df = pd.DataFrame(index = my_dates)\n",
    "for dt in my_dates: \n",
    "    for alp in alpha_factors: \n",
    "        facret_df.at[dt, alp] = facret[dt.strftime('%Y%m%d')][alp]\n",
    "\n",
    "facret_df.cumsum().plot()"
   ]
  },
  {
   "cell_type": "code",
   "execution_count": 96,
   "metadata": {},
   "outputs": [
    {
     "data": {
      "text/plain": [
       "[<matplotlib.lines.Line2D at 0x7fb5804f4820>]"
      ]
     },
     "execution_count": 96,
     "metadata": {},
     "output_type": "execute_result"
    },
    {
     "data": {
      "image/png": "[encoded data removed]",
      "text/plain": [
       "<Figure size 432x288 with 1 Axes>"
      ]
     },
     "metadata": {
      "needs_background": "light"
     },
     "output_type": "display_data"
    }
   ],
   "source": [
    "plt.plot(pnl_old)"
   ]
  },
  {
   "cell_type": "code",
   "execution_count": 88,
   "metadata": {},
   "outputs": [
    {
     "name": "stdout",
     "output_type": "stream",
     "text": [
      "The total residual return is 1.0445998411987356\n",
      "The cumulative return of simply combining all alpha factors is0.4450033863261572\n",
      "The total cumulative return of out strategy is 0.5043168533212155\n"
     ]
    }
   ],
   "source": [
    "print('The total residual return is ' + str(sum(y_data['Ret'])))\n",
    "print('The cumulative return of simply combining all alpha factors is' + str(np.sum(np.sum(facret_df))))\n",
    "print('The total cumulative return of out strategy is '+str(pnl_old[-1]))"
   ]
  },
  {
   "cell_type": "markdown",
   "metadata": {},
   "source": [
    "We can clearly see that our strategy based on ElasticNet perfoms higher cumulative return than simply combining all alpha factors. Thus I think we found a better alpha factor strategy. \n",
    "\n",
    "Also, we can see that there is a large difference between actual residual return and cumulative return of strategy. Maybe there exists some alpha factors of other information which we didn't consider into the strategy. Thus I think a future improvement direction is to consider more reasonable alpha factors into the strategy and explore some new alpha factors to help us get a higher excess return than other investors in the market. \n",
    "\n"
   ]
  },
  {
   "cell_type": "code",
   "execution_count": 86,
   "metadata": {},
   "outputs": [],
   "source": [
    "# The coefficients of all eight alpha factors is \n",
    "# coef_mean3"
   ]
  }
 ],
 "metadata": {
  "kernelspec": {
   "display_name": "Python 3",
   "language": "python",
   "name": "python3"
  },
  "language_info": {
   "codemirror_mode": {
    "name": "ipython",
    "version": 3
   },
   "file_extension": ".py",
   "mimetype": "text/x-python",
   "name": "python",
   "nbconvert_exporter": "python",
   "pygments_lexer": "ipython3",
   "version": "3.8.3"
  }
 },
 "nbformat": 4,
 "nbformat_minor": 2
}
